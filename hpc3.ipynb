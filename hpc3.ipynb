{
 "cells": [
  {
   "cell_type": "code",
   "execution_count": 2,
   "id": "c30edb7e",
   "metadata": {},
   "outputs": [
    {
     "ename": "ModuleNotFoundError",
     "evalue": "No module named 'numba'",
     "output_type": "error",
     "traceback": [
      "\u001b[1;31m---------------------------------------------------------------------------\u001b[0m",
      "\u001b[1;31mModuleNotFoundError\u001b[0m                       Traceback (most recent call last)",
      "\u001b[1;32md:\\STUDY MATERIAL\\FINAL YEAR PROJECT\\BE Project papers\\3RD resumes\\pp\\hpc3.ipynb Cell 1\u001b[0m in \u001b[0;36m<cell line: 1>\u001b[1;34m()\u001b[0m\n\u001b[1;32m----> <a href='vscode-notebook-cell:/d%3A/STUDY%20MATERIAL/FINAL%20YEAR%20PROJECT/BE%20Project%20papers/3RD%20resumes/pp/hpc3.ipynb#W0sZmlsZQ%3D%3D?line=0'>1</a>\u001b[0m \u001b[39mfrom\u001b[39;00m \u001b[39mnumba\u001b[39;00m \u001b[39mimport\u001b[39;00m njit, prange\n\u001b[0;32m      <a href='vscode-notebook-cell:/d%3A/STUDY%20MATERIAL/FINAL%20YEAR%20PROJECT/BE%20Project%20papers/3RD%20resumes/pp/hpc3.ipynb#W0sZmlsZQ%3D%3D?line=1'>2</a>\u001b[0m \u001b[39mimport\u001b[39;00m \u001b[39mnumpy\u001b[39;00m \u001b[39mas\u001b[39;00m \u001b[39mnp\u001b[39;00m\n\u001b[0;32m      <a href='vscode-notebook-cell:/d%3A/STUDY%20MATERIAL/FINAL%20YEAR%20PROJECT/BE%20Project%20papers/3RD%20resumes/pp/hpc3.ipynb#W0sZmlsZQ%3D%3D?line=2'>3</a>\u001b[0m \u001b[39mimport\u001b[39;00m \u001b[39mtime\u001b[39;00m\n",
      "\u001b[1;31mModuleNotFoundError\u001b[0m: No module named 'numba'"
     ]
    }
   ],
   "source": [
    "from numba import njit, prange\n",
    "import numpy as np\n",
    "import time\n",
    "\n",
    "@njit(parallel=True)\n",
    "def parallel_reduction(arr):\n",
    "    n = len(arr)\n",
    "    min_val = np.inf\n",
    "    max_val = -np.inf\n",
    "    total_sum = 0\n",
    "    avg_val = 0\n",
    "    \n",
    "    # Parallel reduction for finding min, max, and sum\n",
    "    for i in prange(n):\n",
    "        min_val = min(min_val, arr[i])\n",
    "        max_val = max(max_val, arr[i])\n",
    "        total_sum += arr[i]\n",
    "    \n",
    "    # Parallel reduction for finding average\n",
    "    avg_val = total_sum / n\n",
    "    \n",
    "    return min_val, max_val, total_sum, avg_val\n",
    "\n",
    "\n",
    "# Test the parallel reduction implementation\n",
    "if __name__ == \"__main__\":\n",
    "    np.random.seed(42)\n",
    "    arr = np.random.randint(0, 100, size=10**6)\n",
    "    \n",
    "    start_time = time.time()\n",
    "    min_val, max_val, total_sum, avg_val = parallel_reduction(arr)\n",
    "    end_time = time.time()\n",
    "    \n",
    "    print(\"Min:\", min_val)\n",
    "    print(\"Max:\", max_val)\n",
    "    print(\"Sum:\", total_sum)\n",
    "    print(\"Average:\", avg_val)\n",
    "    print(\"Execution time:\", end_time - start_time, \"seconds\")\n"
   ]
  },
  {
   "cell_type": "code",
   "execution_count": null,
   "id": "31ce98fb",
   "metadata": {},
   "outputs": [],
   "source": []
  }
 ],
 "metadata": {
  "kernelspec": {
   "display_name": "ml",
   "language": "python",
   "name": "ml"
  },
  "language_info": {
   "codemirror_mode": {
    "name": "ipython",
    "version": 3
   },
   "file_extension": ".py",
   "mimetype": "text/x-python",
   "name": "python",
   "nbconvert_exporter": "python",
   "pygments_lexer": "ipython3",
   "version": "3.9.13"
  }
 },
 "nbformat": 4,
 "nbformat_minor": 5
}
