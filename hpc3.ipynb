{
 "cells": [
  {
   "cell_type": "code",
   "execution_count": 1,
   "id": "c30edb7e",
   "metadata": {},
   "outputs": [
    {
     "name": "stdout",
     "output_type": "stream",
     "text": [
      "Min: 0.0\n",
      "Max: 99.0\n",
      "Sum: 49473938\n",
      "Average: 49.473938\n",
      "Execution time: 24.16666340827942 seconds\n"
     ]
    }
   ],
   "source": [
    "from numba import njit, prange\n",
    "import numpy as np\n",
    "import time\n",
    "\n",
    "@njit(parallel=True)\n",
    "def parallel_reduction(arr):\n",
    "    n = len(arr)\n",
    "    min_val = np.inf\n",
    "    max_val = -np.inf\n",
    "    total_sum = 0\n",
    "    avg_val = 0\n",
    "    \n",
    "    # Parallel reduction for finding min, max, and sum\n",
    "    for i in prange(n):\n",
    "        min_val = min(min_val, arr[i])\n",
    "        max_val = max(max_val, arr[i])\n",
    "        total_sum += arr[i]\n",
    "    \n",
    "    # Parallel reduction for finding average\n",
    "    avg_val = total_sum / n\n",
    "    \n",
    "    return min_val, max_val, total_sum, avg_val\n",
    "\n",
    "\n",
    "# Test the parallel reduction implementation\n",
    "if __name__ == \"__main__\":\n",
    "    np.random.seed(42)\n",
    "    arr = np.random.randint(0, 100, size=10**6)\n",
    "    \n",
    "    start_time = time.time()\n",
    "    min_val, max_val, total_sum, avg_val = parallel_reduction(arr)\n",
    "    end_time = time.time()\n",
    "    \n",
    "    print(\"Min:\", min_val)\n",
    "    print(\"Max:\", max_val)\n",
    "    print(\"Sum:\", total_sum)\n",
    "    print(\"Average:\", avg_val)\n",
    "    print(\"Execution time:\", end_time - start_time, \"seconds\")\n"
   ]
  },
  {
   "cell_type": "code",
   "execution_count": null,
   "id": "31ce98fb",
   "metadata": {},
   "outputs": [],
   "source": []
  }
 ],
 "metadata": {
  "kernelspec": {
   "display_name": "Python 3 (ipykernel)",
   "language": "python",
   "name": "python3"
  },
  "language_info": {
   "codemirror_mode": {
    "name": "ipython",
    "version": 3
   },
   "file_extension": ".py",
   "mimetype": "text/x-python",
   "name": "python",
   "nbconvert_exporter": "python",
   "pygments_lexer": "ipython3",
   "version": "3.10.9"
  }
 },
 "nbformat": 4,
 "nbformat_minor": 5
}
