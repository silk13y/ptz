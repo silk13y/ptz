{
  "cells": [
    {
      "cell_type": "code",
      "execution_count": 18,
      "id": "9a776749",
      "metadata": {
        "id": "9a776749"
      },
      "outputs": [],
      "source": [
        "import numpy as np\n",
        "import pandas as pd\n",
        "import seaborn as sns\n",
        "import matplotlib.pyplot as plt\n",
        "from sklearn.datasets import fetch_california_housing\n",
        "   \n",
        "\n",
        "from sklearn.model_selection import train_test_split\n",
        "from sklearn.preprocessing import StandardScaler\n",
        "import tensorflow as tf"
      ]
    },
    {
      "cell_type": "code",
      "execution_count": 19,
      "id": "49f5c5a6",
      "metadata": {
        "id": "49f5c5a6"
      },
      "outputs": [],
      "source": [
        "# Load the Boston Housing dataset\n",
        "# boston = load_boston()\n",
        "# data = pd.DataFrame(boston.data, columns=boston.feature_names)\n",
        "# data['PRICE'] = boston.target\n",
        "\n",
        "\n",
        "boston = fetch_california_housing()\n",
        "data = pd.DataFrame(boston.data, columns=boston.feature_names)\n",
        "data['PRICE'] = boston.target\n",
        "\n",
        "# Split the data into training and testing sets\n",
        "X_train, X_test, y_train, y_test = train_test_split(data.iloc[:, :-1],\n",
        "data.iloc[:, -1], test_size=0.2, random_state=42)\n",
        "\n",
        "data_url = \"http://lib.stat.cmu.edu/datasets/boston\"\n",
        "raw_df = pd.read_csv(data_url, sep=\"\\s+\", skiprows=22,\n",
        "header=None)\n",
        "data = np.hstack([raw_df.values[::2, :],\n",
        "raw_df.values[1::2, :2]])\n",
        "target = raw_df.values[1::2, 2]\n"
      ]
    },
    {
      "cell_type": "code",
      "execution_count": 20,
      "id": "ec222634",
      "metadata": {
        "id": "ec222634"
      },
      "outputs": [],
      "source": [
        "# Scale the data\n",
        "scaler = StandardScaler()\n",
        "X_train = scaler.fit_transform(X_train)\n",
        "X_test = scaler.transform(X_test)"
      ]
    },
    {
      "cell_type": "code",
      "execution_count": 21,
      "id": "a7e7ce3c",
      "metadata": {
        "id": "a7e7ce3c"
      },
      "outputs": [],
      "source": [
        "# Define the model\n",
        "model = tf.keras.models.Sequential([\n",
        "tf.keras.layers.Dense(64, activation='relu',\n",
        "input_shape=(X_train.shape[1],)),\n",
        "tf.keras.layers.Dense(32, activation='relu'),\n",
        "tf.keras.layers.Dense(1)])"
      ]
    },
    {
      "cell_type": "code",
      "execution_count": 22,
      "id": "9d010d8d",
      "metadata": {
        "colab": {
          "base_uri": "https://localhost:8080/"
        },
        "id": "9d010d8d",
        "outputId": "0871bb92-5114-4714-f562-ca312a5cac78"
      },
      "outputs": [
        {
          "output_type": "stream",
          "name": "stdout",
          "text": [
            "Epoch 1/100\n",
            "413/413 [==============================] - 2s 3ms/step - loss: 0.9428 - val_loss: 0.4706\n",
            "Epoch 2/100\n",
            "413/413 [==============================] - 1s 2ms/step - loss: 0.4144 - val_loss: 0.4078\n",
            "Epoch 3/100\n",
            "413/413 [==============================] - 1s 2ms/step - loss: 0.3680 - val_loss: 0.3971\n",
            "Epoch 4/100\n",
            "413/413 [==============================] - 1s 3ms/step - loss: 0.3576 - val_loss: 0.3783\n",
            "Epoch 5/100\n",
            "413/413 [==============================] - 1s 4ms/step - loss: 0.3441 - val_loss: 0.3861\n",
            "Epoch 6/100\n",
            "413/413 [==============================] - 1s 2ms/step - loss: 0.3332 - val_loss: 0.3741\n",
            "Epoch 7/100\n",
            "413/413 [==============================] - 1s 2ms/step - loss: 0.3275 - val_loss: 0.3494\n",
            "Epoch 8/100\n",
            "413/413 [==============================] - 1s 2ms/step - loss: 0.3228 - val_loss: 0.3416\n",
            "Epoch 9/100\n",
            "413/413 [==============================] - 1s 2ms/step - loss: 0.3146 - val_loss: 0.3683\n",
            "Epoch 10/100\n",
            "413/413 [==============================] - 1s 2ms/step - loss: 0.3260 - val_loss: 0.3416\n",
            "Epoch 11/100\n",
            "413/413 [==============================] - 1s 2ms/step - loss: 0.3066 - val_loss: 0.3310\n",
            "Epoch 12/100\n",
            "413/413 [==============================] - 1s 2ms/step - loss: 0.3017 - val_loss: 0.3343\n",
            "Epoch 13/100\n",
            "413/413 [==============================] - 1s 2ms/step - loss: 0.2962 - val_loss: 0.3206\n",
            "Epoch 14/100\n",
            "413/413 [==============================] - 1s 2ms/step - loss: 0.2952 - val_loss: 0.3220\n",
            "Epoch 15/100\n",
            "413/413 [==============================] - 1s 2ms/step - loss: 0.2939 - val_loss: 0.3246\n",
            "Epoch 16/100\n",
            "413/413 [==============================] - 1s 3ms/step - loss: 0.2870 - val_loss: 0.3280\n",
            "Epoch 17/100\n",
            "413/413 [==============================] - 1s 3ms/step - loss: 0.2854 - val_loss: 0.3225\n",
            "Epoch 18/100\n",
            "413/413 [==============================] - 1s 3ms/step - loss: 0.2848 - val_loss: 0.3131\n",
            "Epoch 19/100\n",
            "413/413 [==============================] - 1s 2ms/step - loss: 0.2933 - val_loss: 0.3114\n",
            "Epoch 20/100\n",
            "413/413 [==============================] - 1s 2ms/step - loss: 0.2852 - val_loss: 0.3094\n",
            "Epoch 21/100\n",
            "413/413 [==============================] - 1s 2ms/step - loss: 0.2821 - val_loss: 0.3227\n",
            "Epoch 22/100\n",
            "413/413 [==============================] - 1s 2ms/step - loss: 0.2797 - val_loss: 0.3071\n",
            "Epoch 23/100\n",
            "413/413 [==============================] - 1s 2ms/step - loss: 0.2812 - val_loss: 0.3341\n",
            "Epoch 24/100\n",
            "413/413 [==============================] - 1s 2ms/step - loss: 0.2783 - val_loss: 0.3180\n",
            "Epoch 25/100\n",
            "413/413 [==============================] - 1s 2ms/step - loss: 0.2763 - val_loss: 0.3121\n",
            "Epoch 26/100\n",
            "413/413 [==============================] - 1s 2ms/step - loss: 0.2770 - val_loss: 0.3113\n",
            "Epoch 27/100\n",
            "413/413 [==============================] - 1s 2ms/step - loss: 0.2734 - val_loss: 0.3135\n",
            "Epoch 28/100\n",
            "413/413 [==============================] - 1s 2ms/step - loss: 0.2741 - val_loss: 0.3101\n",
            "Epoch 29/100\n",
            "413/413 [==============================] - 1s 3ms/step - loss: 0.2767 - val_loss: 0.3089\n",
            "Epoch 30/100\n",
            "413/413 [==============================] - 1s 4ms/step - loss: 0.2710 - val_loss: 0.3042\n",
            "Epoch 31/100\n",
            "413/413 [==============================] - 1s 2ms/step - loss: 0.2707 - val_loss: 0.3148\n",
            "Epoch 32/100\n",
            "413/413 [==============================] - 1s 2ms/step - loss: 0.2669 - val_loss: 0.3113\n",
            "Epoch 33/100\n",
            "413/413 [==============================] - 1s 2ms/step - loss: 0.2678 - val_loss: 0.3002\n",
            "Epoch 34/100\n",
            "413/413 [==============================] - 1s 2ms/step - loss: 0.2701 - val_loss: 0.2979\n",
            "Epoch 35/100\n",
            "413/413 [==============================] - 1s 2ms/step - loss: 0.2648 - val_loss: 0.3117\n",
            "Epoch 36/100\n",
            "413/413 [==============================] - 1s 2ms/step - loss: 0.2705 - val_loss: 0.3021\n",
            "Epoch 37/100\n",
            "413/413 [==============================] - 1s 2ms/step - loss: 0.2650 - val_loss: 0.3047\n",
            "Epoch 38/100\n",
            "413/413 [==============================] - 1s 2ms/step - loss: 0.2631 - val_loss: 0.3163\n",
            "Epoch 39/100\n",
            "413/413 [==============================] - 1s 2ms/step - loss: 0.2615 - val_loss: 0.3003\n",
            "Epoch 40/100\n",
            "413/413 [==============================] - 1s 2ms/step - loss: 0.2606 - val_loss: 0.3036\n",
            "Epoch 41/100\n",
            "413/413 [==============================] - 1s 2ms/step - loss: 0.2590 - val_loss: 0.3105\n",
            "Epoch 42/100\n",
            "413/413 [==============================] - 1s 3ms/step - loss: 0.2623 - val_loss: 0.2958\n",
            "Epoch 43/100\n",
            "413/413 [==============================] - 2s 4ms/step - loss: 0.2588 - val_loss: 0.2946\n",
            "Epoch 44/100\n",
            "413/413 [==============================] - 1s 2ms/step - loss: 0.2560 - val_loss: 0.2935\n",
            "Epoch 45/100\n",
            "413/413 [==============================] - 1s 2ms/step - loss: 0.2565 - val_loss: 0.2966\n",
            "Epoch 46/100\n",
            "413/413 [==============================] - 1s 2ms/step - loss: 0.2552 - val_loss: 0.2965\n",
            "Epoch 47/100\n",
            "413/413 [==============================] - 1s 2ms/step - loss: 0.2569 - val_loss: 0.3235\n",
            "Epoch 48/100\n",
            "413/413 [==============================] - 1s 2ms/step - loss: 0.2594 - val_loss: 0.3065\n",
            "Epoch 49/100\n",
            "413/413 [==============================] - 1s 2ms/step - loss: 0.2556 - val_loss: 0.3027\n",
            "Epoch 50/100\n",
            "413/413 [==============================] - 1s 2ms/step - loss: 0.2531 - val_loss: 0.2930\n",
            "Epoch 51/100\n",
            "413/413 [==============================] - 1s 2ms/step - loss: 0.2560 - val_loss: 0.2966\n",
            "Epoch 52/100\n",
            "413/413 [==============================] - 1s 2ms/step - loss: 0.2517 - val_loss: 0.2917\n",
            "Epoch 53/100\n",
            "413/413 [==============================] - 1s 2ms/step - loss: 0.2515 - val_loss: 0.2942\n",
            "Epoch 54/100\n",
            "413/413 [==============================] - 1s 2ms/step - loss: 0.2499 - val_loss: 0.2908\n",
            "Epoch 55/100\n",
            "413/413 [==============================] - 1s 3ms/step - loss: 0.2507 - val_loss: 0.2942\n",
            "Epoch 56/100\n",
            "413/413 [==============================] - 2s 4ms/step - loss: 0.2500 - val_loss: 0.2890\n",
            "Epoch 57/100\n",
            "413/413 [==============================] - 1s 2ms/step - loss: 0.2492 - val_loss: 0.2970\n",
            "Epoch 58/100\n",
            "413/413 [==============================] - 1s 2ms/step - loss: 0.2489 - val_loss: 0.2909\n",
            "Epoch 59/100\n",
            "413/413 [==============================] - 1s 2ms/step - loss: 0.2474 - val_loss: 0.2840\n",
            "Epoch 60/100\n",
            "413/413 [==============================] - 1s 2ms/step - loss: 0.2472 - val_loss: 0.2877\n",
            "Epoch 61/100\n",
            "413/413 [==============================] - 1s 2ms/step - loss: 0.2455 - val_loss: 0.2925\n",
            "Epoch 62/100\n",
            "413/413 [==============================] - 1s 2ms/step - loss: 0.2465 - val_loss: 0.3087\n",
            "Epoch 63/100\n",
            "413/413 [==============================] - 1s 2ms/step - loss: 0.2459 - val_loss: 0.2848\n",
            "Epoch 64/100\n",
            "413/413 [==============================] - 1s 2ms/step - loss: 0.2464 - val_loss: 0.2869\n",
            "Epoch 65/100\n",
            "413/413 [==============================] - 1s 2ms/step - loss: 0.2449 - val_loss: 0.2966\n",
            "Epoch 66/100\n",
            "413/413 [==============================] - 1s 3ms/step - loss: 0.2449 - val_loss: 0.2860\n",
            "Epoch 67/100\n",
            "413/413 [==============================] - 2s 5ms/step - loss: 0.2441 - val_loss: 0.2873\n",
            "Epoch 68/100\n",
            "413/413 [==============================] - 2s 5ms/step - loss: 0.2448 - val_loss: 0.2919\n",
            "Epoch 69/100\n",
            "413/413 [==============================] - 2s 5ms/step - loss: 0.2402 - val_loss: 0.3087\n",
            "Epoch 70/100\n",
            "413/413 [==============================] - 2s 5ms/step - loss: 0.2408 - val_loss: 0.2924\n",
            "Epoch 71/100\n",
            "413/413 [==============================] - 1s 2ms/step - loss: 0.2412 - val_loss: 0.2831\n",
            "Epoch 72/100\n",
            "413/413 [==============================] - 1s 2ms/step - loss: 0.2410 - val_loss: 0.2846\n",
            "Epoch 73/100\n",
            "413/413 [==============================] - 1s 2ms/step - loss: 0.2402 - val_loss: 0.2948\n",
            "Epoch 74/100\n",
            "413/413 [==============================] - 1s 2ms/step - loss: 0.2420 - val_loss: 0.2855\n",
            "Epoch 75/100\n",
            "413/413 [==============================] - 1s 2ms/step - loss: 0.2446 - val_loss: 0.2889\n",
            "Epoch 76/100\n",
            "413/413 [==============================] - 1s 2ms/step - loss: 0.2396 - val_loss: 0.2812\n",
            "Epoch 77/100\n",
            "413/413 [==============================] - 1s 3ms/step - loss: 0.2418 - val_loss: 0.2815\n",
            "Epoch 78/100\n",
            "413/413 [==============================] - 1s 3ms/step - loss: 0.2395 - val_loss: 0.2818\n",
            "Epoch 79/100\n",
            "413/413 [==============================] - 1s 2ms/step - loss: 0.2375 - val_loss: 0.2827\n",
            "Epoch 80/100\n",
            "413/413 [==============================] - 1s 2ms/step - loss: 0.2379 - val_loss: 0.2778\n",
            "Epoch 81/100\n",
            "413/413 [==============================] - 1s 2ms/step - loss: 0.2376 - val_loss: 0.2810\n",
            "Epoch 82/100\n",
            "413/413 [==============================] - 1s 2ms/step - loss: 0.2378 - val_loss: 0.2885\n",
            "Epoch 83/100\n",
            "413/413 [==============================] - 1s 2ms/step - loss: 0.2385 - val_loss: 0.2943\n",
            "Epoch 84/100\n",
            "413/413 [==============================] - 1s 2ms/step - loss: 0.2369 - val_loss: 0.2833\n",
            "Epoch 85/100\n",
            "413/413 [==============================] - 1s 2ms/step - loss: 0.2365 - val_loss: 0.2863\n",
            "Epoch 86/100\n",
            "413/413 [==============================] - 1s 2ms/step - loss: 0.2352 - val_loss: 0.2787\n",
            "Epoch 87/100\n",
            "413/413 [==============================] - 1s 2ms/step - loss: 0.2359 - val_loss: 0.2786\n",
            "Epoch 88/100\n",
            "413/413 [==============================] - 1s 2ms/step - loss: 0.2357 - val_loss: 0.2783\n",
            "Epoch 89/100\n",
            "413/413 [==============================] - 1s 2ms/step - loss: 0.2346 - val_loss: 0.2859\n",
            "Epoch 90/100\n",
            "413/413 [==============================] - 1s 3ms/step - loss: 0.2335 - val_loss: 0.2861\n",
            "Epoch 91/100\n",
            "413/413 [==============================] - 3s 6ms/step - loss: 0.2331 - val_loss: 0.2946\n",
            "Epoch 92/100\n",
            "413/413 [==============================] - 3s 6ms/step - loss: 0.2325 - val_loss: 0.2955\n",
            "Epoch 93/100\n",
            "413/413 [==============================] - 2s 5ms/step - loss: 0.2337 - val_loss: 0.2827\n",
            "Epoch 94/100\n",
            "413/413 [==============================] - 2s 6ms/step - loss: 0.2313 - val_loss: 0.2843\n",
            "Epoch 95/100\n",
            "413/413 [==============================] - 2s 4ms/step - loss: 0.2323 - val_loss: 0.2828\n",
            "Epoch 96/100\n",
            "413/413 [==============================] - 1s 3ms/step - loss: 0.2368 - val_loss: 0.2847\n",
            "Epoch 97/100\n",
            "413/413 [==============================] - 1s 3ms/step - loss: 0.2316 - val_loss: 0.2872\n",
            "Epoch 98/100\n",
            "413/413 [==============================] - 1s 3ms/step - loss: 0.2328 - val_loss: 0.2846\n",
            "Epoch 99/100\n",
            "413/413 [==============================] - 1s 2ms/step - loss: 0.2325 - val_loss: 0.2794\n",
            "Epoch 100/100\n",
            "413/413 [==============================] - 1s 2ms/step - loss: 0.2333 - val_loss: 0.2782\n"
          ]
        }
      ],
      "source": [
        "# Compile the model\n",
        "model.compile(optimizer='adam', loss='mse')\n",
        "\n",
        "# Train the model\n",
        "history = model.fit(X_train, y_train, epochs=100, batch_size=32,\n",
        "validation_split=0.2)"
      ]
    },
    {
      "cell_type": "code",
      "execution_count": 23,
      "id": "29841738",
      "metadata": {
        "colab": {
          "base_uri": "https://localhost:8080/",
          "height": 472
        },
        "id": "29841738",
        "outputId": "5cecbb01-0e9e-4343-d8cf-43707b54de41"
      },
      "outputs": [
        {
          "output_type": "display_data",
          "data": {
            "text/plain": [
              "<Figure size 640x480 with 1 Axes>"
            ],
            "image/png": "[encoded data removed]"
          },
          "metadata": {}
        }
      ],
      "source": [
        "# Visualize the training history\n",
        "loss = history.history['loss']\n",
        "val_loss = history.history['val_loss']\n",
        "epochs = range(1, len(loss) + 1)\n",
        "plt.plot(epochs, loss, 'bo', label='Training loss')\n",
        "plt.plot(epochs, val_loss, 'b', label='Validation loss')\n",
        "plt.title('Training and validation loss')\n",
        "plt.xlabel('Epochs')\n",
        "plt.ylabel('Loss')\n",
        "plt.legend()\n",
        "plt.show()"
      ]
    },
    {
      "cell_type": "code",
      "execution_count": 24,
      "id": "8abd7f2f",
      "metadata": {
        "colab": {
          "base_uri": "https://localhost:8080/",
          "height": 466
        },
        "id": "8abd7f2f",
        "outputId": "414cd84c-170f-43e3-81ec-75f5420b4cba"
      },
      "outputs": [
        {
          "output_type": "stream",
          "name": "stdout",
          "text": [
            "129/129 [==============================] - 0s 1ms/step\n"
          ]
        },
        {
          "output_type": "display_data",
          "data": {
            "text/plain": [
              "<Figure size 640x480 with 1 Axes>"
            ],
            "image/png": "[encoded data removed]"
          },
          "metadata": {}
        }
      ],
      "source": [
        "# Visualize the linear regression graph\n",
        "y_pred = model.predict(X_test)\n",
        "plt.scatter(y_test, y_pred)\n",
        "plt.plot([0, 50], [0, 50], '--k')\n",
        "plt.axis('tight')\n",
        "plt.xlabel('True price ($1000s)')\n",
        "plt.ylabel('Predicted price ($1000s)')\n",
        "plt.show()"
      ]
    }
  ],
  "metadata": {
    "kernelspec": {
      "display_name": "Python 3 (ipykernel)",
      "language": "python",
      "name": "python3"
    },
    "language_info": {
      "codemirror_mode": {
        "name": "ipython",
        "version": 3
      },
      "file_extension": ".py",
      "mimetype": "text/x-python",
      "name": "python",
      "nbconvert_exporter": "python",
      "pygments_lexer": "ipython3",
      "version": "3.10.2"
    },
    "colab": {
      "provenance": []
    }
  },
  "nbformat": 4,
  "nbformat_minor": 5
}