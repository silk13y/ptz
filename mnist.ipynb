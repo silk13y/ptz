{
 "cells": [
  {
   "cell_type": "code",
   "execution_count": null,
   "id": "d472b8e5",
   "metadata": {},
   "outputs": [],
   "source": []
  },
  {
   "cell_type": "code",
   "execution_count": 33,
   "id": "1588d41f",
   "metadata": {},
   "outputs": [],
   "source": [
    "import pandas as pd \n",
    "import numpy as np\n",
    "import matplotlib.pyplot as plt\n",
    "import seaborn as sns\n",
    "import tensorflow as ts\n",
    "import tensorflow.keras as keras\n",
    "from tensorflow.keras.utils import to_categorical\n",
    "from keras.utils.vis_utils import plot_model\n",
    "from tensorflow.keras.datasets import fashion_mnist\n",
    "from tensorflow.keras import models, layers\n",
    "from tensorflow.keras.preprocessing.image import ImageDataGenerator\n",
    "from keras.layers import Dense, Dropout, Flatten,Conv2D, MaxPooling2D,BatchNormalization\n",
    "from sklearn.metrics import confusion_matrix, classification_report\n"
   ]
  },
  {
   "cell_type": "code",
   "execution_count": 34,
   "id": "03f937c5",
   "metadata": {},
   "outputs": [],
   "source": [
    "(X_train, y_train), (X_test, y_test) = fashion_mnist.load_data()\n"
   ]
  },
  {
   "cell_type": "code",
   "execution_count": 35,
   "id": "a7318416",
   "metadata": {},
   "outputs": [
    {
     "name": "stdout",
     "output_type": "stream",
     "text": [
      "('You must install pydot (`pip install pydot`) and install graphviz (see instructions at https://graphviz.gitlab.io/download/) ', 'for plot_model/model_to_dot to work.')\n"
     ]
    }
   ],
   "source": [
    "class_names = ['T-shirt/top', 'Trouser', 'Pullover', 'Dress', 'Coat','Sandal', 'Shirt', 'Sneaker', 'Bag', 'Ankle boot']\n",
    "X_train = X_train.reshape((X_train.shape[0], 28, 28, 1))\n",
    "X_test = X_test.reshape((X_test.shape[0], 28, 28, 1))\n",
    "X_train = X_train.astype('float32') / 255\n",
    "X_test = X_test.astype('float32') / 255\n",
    " \n",
    "y_train = to_categorical(y_train, num_classes=10)\n",
    "y_test = to_categorical(y_test, num_classes=10)\n",
    "model = keras.Sequential()\n",
    "model.add(Conv2D(32, (3, 3), activation='relu', \n",
    "kernel_initializer='he_uniform', input_shape=(28, 28, 1)))\n",
    "model.add(MaxPooling2D((2, 2)))\n",
    "model.add(Flatten())\n",
    "model.add(Dense(100, activation='relu', \n",
    "kernel_initializer='he_uniform'))\n",
    "model.add(Dense(10, activation='softmax'))\n",
    "model.compile(optimizer='adam', loss='categorical_crossentropy', \n",
    "metrics=['accuracy'])\n",
    "plot_model(model, to_file='fmnistcnn.png',show_shapes=True, \n",
    "show_layer_names=True)"
   ]
  },
  {
   "cell_type": "code",
   "execution_count": 36,
   "id": "55ce90b9",
   "metadata": {},
   "outputs": [
    {
     "name": "stdout",
     "output_type": "stream",
     "text": [
      "Epoch 1/15\n",
      "1875/1875 [==============================] - 18s 10ms/step - loss: 0.3715 - accuracy: 0.8681\n",
      "Epoch 2/15\n",
      "1875/1875 [==============================] - 24s 13ms/step - loss: 0.2480 - accuracy: 0.9103\n",
      "Epoch 3/15\n",
      "1875/1875 [==============================] - 24s 13ms/step - loss: 0.2036 - accuracy: 0.9247\n",
      "Epoch 4/15\n",
      "1875/1875 [==============================] - 24s 13ms/step - loss: 0.1715 - accuracy: 0.9369\n",
      "Epoch 5/15\n",
      "1875/1875 [==============================] - 23s 12ms/step - loss: 0.1450 - accuracy: 0.94630s - loss: 0.1448 - accuracy: 0.\n",
      "Epoch 6/15\n",
      "1875/1875 [==============================] - 38s 20ms/step - loss: 0.1236 - accuracy: 0.9546\n",
      "Epoch 7/15\n",
      "1875/1875 [==============================] - 26s 14ms/step - loss: 0.1061 - accuracy: 0.9603\n",
      "Epoch 8/15\n",
      "1875/1875 [==============================] - 33s 18ms/step - loss: 0.0877 - accuracy: 0.9669\n",
      "Epoch 9/15\n",
      "1875/1875 [==============================] - 20s 11ms/step - loss: 0.0759 - accuracy: 0.9723\n",
      "Epoch 10/15\n",
      "1875/1875 [==============================] - 23s 12ms/step - loss: 0.0643 - accuracy: 0.9764\n",
      "Epoch 11/15\n",
      "1875/1875 [==============================] - 27s 14ms/step - loss: 0.0551 - accuracy: 0.9800\n",
      "Epoch 12/15\n",
      "1875/1875 [==============================] - 22s 12ms/step - loss: 0.0494 - accuracy: 0.9826\n",
      "Epoch 13/15\n",
      "1875/1875 [==============================] - 23s 12ms/step - loss: 0.0429 - accuracy: 0.9851\n",
      "Epoch 14/15\n",
      "1875/1875 [==============================] - 21s 11ms/step - loss: 0.0354 - accuracy: 0.9877\n",
      "Epoch 15/15\n",
      "1875/1875 [==============================] - 20s 11ms/step - loss: 0.0338 - accuracy: 0.9880\n"
     ]
    }
   ],
   "source": [
    "history = model.fit(X_train, y_train, epochs=15, batch_size=32)\n"
   ]
  },
  {
   "cell_type": "code",
   "execution_count": 37,
   "id": "aa6acd07",
   "metadata": {},
   "outputs": [
    {
     "name": "stdout",
     "output_type": "stream",
     "text": [
      "1875/1875 [==============================] - 10s 5ms/step - loss: 0.0178 - accuracy: 0.9948\n",
      "313/313 [==============================] - 2s 5ms/step - loss: 0.4204 - accuracy: 0.9182\n",
      "Train accuracy: 0.9948\n",
      "Train loss: 0\n",
      "Test accuracy: 0.9182\n",
      "Test loss: 0.42\n"
     ]
    }
   ],
   "source": [
    "train_loss, train_acc = model.evaluate(X_train, y_train)\n",
    "test_loss, test_acc = model.evaluate(X_test, y_test)\n",
    "print(\"Train accuracy:\", round(train_acc, 5))\n",
    "print(\"Train loss:\", round(train_loss, ))\n",
    "print(\"Test accuracy:\", round(test_acc, 5))\n",
    "print(\"Test loss:\", round(test_loss, 3))\n"
   ]
  },
  {
   "cell_type": "code",
   "execution_count": 38,
   "id": "81fe3b99",
   "metadata": {},
   "outputs": [
    {
     "data": {
      "image/png": "[encoded data removed]",
      "text/plain": [
       "<Figure size 432x288 with 1 Axes>"
      ]
     },
     "metadata": {
      "needs_background": "light"
     },
     "output_type": "display_data"
    }
   ],
   "source": [
    "plt.plot(history.history[\"accuracy\"])\n",
    "#plt.plot(history.history[\"val_accuracy\"])\n",
    "plt.title(\"Model Accuracy\")\n",
    "plt.xlabel('Epochs')\n",
    "plt.ylabel('Accuracy')\n",
    "plt.legend(['Train', 'Test'])\n",
    "plt.show()"
   ]
  },
  {
   "cell_type": "code",
   "execution_count": null,
   "id": "cc0ec83a",
   "metadata": {},
   "outputs": [],
   "source": []
  }
 ],
 "metadata": {
  "kernelspec": {
   "display_name": "Python 3 (ipykernel)",
   "language": "python",
   "name": "python3"
  },
  "language_info": {
   "codemirror_mode": {
    "name": "ipython",
    "version": 3
   },
   "file_extension": ".py",
   "mimetype": "text/x-python",
   "name": "python",
   "nbconvert_exporter": "python",
   "pygments_lexer": "ipython3",
   "version": "3.9.6"
  }
 },
 "nbformat": 4,
 "nbformat_minor": 5
}
